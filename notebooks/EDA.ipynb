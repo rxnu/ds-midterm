{
 "cells": [
  {
   "cell_type": "markdown",
   "metadata": {},
   "source": [
    "# EDA"
   ]
  },
  {
   "cell_type": "markdown",
   "metadata": {},
   "source": [
    "\n",
    "- The os module has a perfect method to list files in a directory.\n",
    "- Pandas json normalize could work here but is not necessary to convert the JSON data to a dataframe.\n",
    "- You may need a nested for-loop to access each sale!\n",
    "- We've put a lot of time into creating the structure of this repository, and it's a good example for future projects.  In the file functions_variables.py, there is an example function that you can import and use.  If you have any variables, functions or classes that you want to make, they can be put in the functions_variables.py file and imported into a notebook.  Note that only .py files can be imported into a notebook. If you want to import everything from a .py file, you can use the following:\n",
    "```python\n",
    "from functions_variables import *\n",
    "```\n",
    "If you just import functions_variables, then each object from the file will need to be prepended with \"functions_variables\"\\\n",
    "Using this .py file will keep your notebooks very organized and make it easier to reuse code between notebooks."
   ]
  },
  {
   "cell_type": "code",
   "execution_count": 4,
   "metadata": {},
   "outputs": [],
   "source": [
    "# (this is not an exhaustive list of libraries)\n",
    "import pandas as pd\n",
    "import numpy as np\n",
    "import os\n",
    "import json\n",
    "from pprint import pprint\n"
   ]
  },
  {
   "cell_type": "markdown",
   "metadata": {},
   "source": [
    "## Data Importing"
   ]
  },
  {
   "cell_type": "code",
   "execution_count": null,
   "metadata": {},
   "outputs": [],
   "source": [
    "## Data Importing load one file first to see what type of data you're dealing with and what attributes it has \n",
    "# loop over all files and put them into a dataframe "
   ]
  },
  {
   "cell_type": "code",
   "execution_count": 5,
   "metadata": {},
   "outputs": [
    {
     "ename": "FileNotFoundError",
     "evalue": "[Errno 2] No such file or directory: '../data'",
     "output_type": "error",
     "traceback": [
      "\u001b[0;31m---------------------------------------------------------------------------\u001b[0m",
      "\u001b[0;31mFileNotFoundError\u001b[0m                         Traceback (most recent call last)",
      "Cell \u001b[0;32mIn[5], line 3\u001b[0m\n\u001b[1;32m      1\u001b[0m \u001b[38;5;66;03m# 1.1 locate files\u001b[39;00m\n\u001b[1;32m      2\u001b[0m data_dir \u001b[38;5;241m=\u001b[39m \u001b[38;5;124m\"\u001b[39m\u001b[38;5;124m../data\u001b[39m\u001b[38;5;124m\"\u001b[39m\n\u001b[0;32m----> 3\u001b[0m files \u001b[38;5;241m=\u001b[39m os\u001b[38;5;241m.\u001b[39mlistdir(data_dir)\n\u001b[1;32m      4\u001b[0m json_files \u001b[38;5;241m=\u001b[39m [f \u001b[38;5;28;01mfor\u001b[39;00m f \u001b[38;5;129;01min\u001b[39;00m files \u001b[38;5;28;01mif\u001b[39;00m f\u001b[38;5;241m.\u001b[39mendswith(\u001b[38;5;124m\"\u001b[39m\u001b[38;5;124m.json\u001b[39m\u001b[38;5;124m\"\u001b[39m)]\n",
      "\u001b[0;31mFileNotFoundError\u001b[0m: [Errno 2] No such file or directory: '../data'"
     ]
    }
   ],
   "source": [
    "# 1.1 locate files\n",
    "data_dir = \"../data\"\n",
    "files = os.listdir(data_dir)\n",
    "json_files = [f for f in files if f.endswith(\".json\")]"
   ]
  },
  {
   "cell_type": "markdown",
   "metadata": {},
   "source": [
    "## Data Cleaning and Wrangling"
   ]
  },
  {
   "cell_type": "markdown",
   "metadata": {},
   "source": [
    "At this point, ensure that you have all sales in a dataframe.\n",
    "- Take a quick look at your data (i.e. `.info()`, `.describe()`) - what do you see?\n",
    "- Is each cell one value, or do some cells have lists?\n",
    "- What are the data types of each column?\n",
    "- Some sales may not actually include the sale price (target).  These rows should be dropped.\n",
    "- There are a lot of NA/None values.  Should these be dropped or replaced with something?\n",
    "    - You can drop rows or use various methods to fills NA's - use your best judgement for each column \n",
    "    - i.e. for some columns (like Garage), NA probably just means no Garage, so 0\n",
    "- Drop columns that aren't needed\n",
    "    - Don't keep the list price because it will be too close to the sale price. Assume we want to predict the price of houses not yet listed"
   ]
  },
  {
   "cell_type": "code",
   "execution_count": null,
   "metadata": {},
   "outputs": [],
   "source": [
    "print(df.shape)\n",
    "print(df.columns)\n",
    "print(df.dtypes)\n",
    "df.info()\n",
    "df.describe(include='all')\n"
   ]
  },
  {
   "cell_type": "markdown",
   "metadata": {},
   "source": [
    "### Dealing with Tags"
   ]
  },
  {
   "cell_type": "markdown",
   "metadata": {},
   "source": [
    "Consider the fact that with tags, there are a lot of categorical variables.\n",
    "- How many columns would we have if we OHE tags, city and state?\n",
    "- Perhaps we can get rid of tags that have a low frequency."
   ]
  },
  {
   "cell_type": "code",
   "execution_count": null,
   "metadata": {},
   "outputs": [],
   "source": [
    "df_hashed = df.copy().astype(str)  # Updated to avoid the `applymap` warning\n",
    "duplicates_mask = df_hashed.duplicated()\n",
    "duplicates = df[duplicates_mask]\n",
    "\n",
    "duplicate_count = df_hashed.duplicated().sum()\n",
    "\n",
    "# If you want to see them:\n",
    "if duplicate_count > 0:\n",
    "    duplicate_rows = df[df_hashed.duplicated()]\n",
    "    print(\"\\nDuplicate rows:\")\n",
    "    display(duplicate_rows)"
   ]
  },
  {
   "cell_type": "code",
   "execution_count": null,
   "metadata": {},
   "outputs": [],
   "source": [
    "# All duplicate rows (excluding firsts)\n",
    "dup_df = df_hashed[df_hashed.duplicated(keep=False)]\n",
    "\n",
    "# Columns where all duplicate rows have the same value\n",
    "constant_cols = [col for col in df_hashed.columns if dup_df[col].nunique() == 1]\n",
    "\n",
    "print(\"\\nColumns that are identical in all duplicate rows:\")\n",
    "for col in constant_cols:\n",
    "    print(f\"  {col}\")"
   ]
  },
  {
   "cell_type": "code",
   "execution_count": null,
   "metadata": {},
   "outputs": [],
   "source": [
    "# OHE categorical variables/ tags here\n",
    "# tags will have to be done manually\n",
    "\n",
    "\n",
    "import pandas as pd\n",
    "\n",
    "def flatten_nested_columns(df):\n",
    "    # 1. Flatten 'tags' - simple list of strings\n",
    "    if 'tags' in df.columns:\n",
    "        df['tags_flat'] = df['tags'].apply(lambda x: ', '.join(x) if isinstance(x, list) else '')\n",
    "        df.drop(columns=['tags'], inplace=True)\n",
    "\n",
    "    # 2. Flatten 'branding' - extract 'name' field\n",
    "    if 'branding' in df.columns:\n",
    "        df['branding_names'] = df['branding'].apply(\n",
    "            lambda lst: ', '.join([str(d.get('name', '')) for d in lst if isinstance(d, dict)]) if isinstance(lst, list) else ''\n",
    "        )\n",
    "        df.drop(columns=['branding'], inplace=True)\n",
    "\n",
    "    # 3. Flatten 'photos' - count of photos or first image href\n",
    "    if 'photos' in df.columns:\n",
    "        df['photo_count'] = df['photos'].apply(lambda x: len(x) if isinstance(x, list) else 0)\n",
    "        df['first_photo_href'] = df['photos'].apply(\n",
    "            lambda x: x[0].get('href', '') if isinstance(x, list) and len(x) > 0 and isinstance(x[0], dict) else ''\n",
    "        )\n",
    "        df.drop(columns=['photos'], inplace=True)\n",
    "\n",
    "    # 4. Flatten 'virtual_tours' - first link if available\n",
    "    if 'virtual_tours' in df.columns:\n",
    "        df['first_virtual_tour'] = df['virtual_tours'].apply(\n",
    "            lambda x: x[0].get('href', '') if isinstance(x, list) and len(x) > 0 and isinstance(x[0], dict) else ''\n",
    "        )\n",
    "        df.drop(columns=['virtual_tours'], inplace=True)\n",
    "\n",
    "    # 5. Flatten 'source.agents' - get all 'office_name' entries\n",
    "    if 'source.agents' in df.columns:\n",
    "        df['source.agents.office_names'] = df['source.agents'].apply(\n",
    "            lambda agents: ', '.join([str(a.get('office_name', '') or '') for a in agents]) if isinstance(agents, list) else ''\n",
    "        )\n",
    "        df.drop(columns=['source.agents'], inplace=True)\n",
    "\n",
    "    # 6. Flatten 'other_listings.rdc' - get count or listing_ids\n",
    "    if 'other_listings.rdc' in df.columns:\n",
    "        df['other_listings_count'] = df['other_listings.rdc'].apply(\n",
    "            lambda x: len(x) if isinstance(x, list) else 0\n",
    "        )\n",
    "        df['other_listing_ids'] = df['other_listings.rdc'].apply(\n",
    "            lambda x: ', '.join([str(i.get('listing_id', '')) for i in x]) if isinstance(x, list) else ''\n",
    "        )\n",
    "        df.drop(columns=['other_listings.rdc'], inplace=True)\n",
    "\n",
    "    # 7. Flatten 'community.advertisers' - extract phone numbers if present\n",
    "    if 'community.advertisers' in df.columns:\n",
    "        def extract_phone(advertisers):\n",
    "            if isinstance(advertisers, list):\n",
    "                phones = []\n",
    "                for advertiser in advertisers:\n",
    "                    office = advertiser.get('office', {}) if isinstance(advertiser, dict) else {}\n",
    "                    phone_list = office.get('phones', [])\n",
    "                    for phone in phone_list:\n",
    "                        phones.append(phone.get('number', ''))\n",
    "                return ', '.join(filter(None, phones))\n",
    "            return ''\n",
    "        \n",
    "        df['advertiser_phones'] = df['community.advertisers'].apply(extract_phone)\n",
    "        df.drop(columns=['community.advertisers'], inplace=True)\n",
    "\n",
    "    return df\n"
   ]
  },
  {
   "cell_type": "markdown",
   "metadata": {},
   "source": [
    "### Dealing with Cities"
   ]
  },
  {
   "cell_type": "markdown",
   "metadata": {},
   "source": [
    "- Sales will vary drastically between cities and states.  Is there a way to keep information about which city it is without OHE?\n",
    "- Could we label encode or ordinal encode?  Yes, but this may have undesirable effects, giving nominal data ordinal values.\n",
    "- What we can do is use our training data to encode the mean sale price by city as a feature (a.k.a. Target Encoding)\n",
    "    - We can do this as long as we ONLY use the training data - we're using the available data to give us a 'starting guess' of the price for each city, without needing to encode city explicitly\n",
    "- If you replace cities or states with numerical values (like the mean price), make sure that the data is split so that we don't leak data into the training selection. This is a great time to train test split. Compute on the training data, and join these values to the test data\n",
    "- Note that you *may* have cities in the test set that are not in the training set. You don't want these to be NA, so maybe you can fill them with the overall mean"
   ]
  },
  {
   "cell_type": "code",
   "execution_count": null,
   "metadata": {},
   "outputs": [],
   "source": [
    "# perform train test split here\n",
    "# do something with state and city"
   ]
  },
  {
   "cell_type": "markdown",
   "metadata": {},
   "source": [
    "## Extra Data - STRETCH\n",
    "\n",
    "> This doesn't need to be part of your Minimum Viable Product (MVP). We recommend you write a functional, basic pipeline first, then circle back and join new data if you have time\n",
    "\n",
    "> If you do this, try to write your downstream steps in a way it will still work on a dataframe with different features!\n",
    "\n",
    "- You're not limited to just using the data provided to you. Think/ do some research about other features that might be useful to predict housing prices. \n",
    "- Can you import and join this data? Make sure you do any necessary preprocessing and make sure it is joined correctly.\n",
    "- Example suggestion: could mortgage interest rates in the year of the listing affect the price? "
   ]
  },
  {
   "cell_type": "code",
   "execution_count": null,
   "metadata": {},
   "outputs": [],
   "source": [
    "# import, join and preprocess new data here"
   ]
  },
  {
   "cell_type": "markdown",
   "metadata": {},
   "source": [
    "## EDA/ Visualization\n",
    "\n",
    "Remember all of the EDA that you've been learning about?  Now is a perfect time for it!\n",
    "- Look at distributions of numerical variables to see the shape of the data and detect outliers.    \n",
    "    - Consider transforming very skewed variables\n",
    "- Scatterplots of a numerical variable and the target go a long way to show correlations.\n",
    "- A heatmap will help detect highly correlated features, and we don't want these.\n",
    "    - You may have too many features to do this, in which case you can simply compute the most correlated feature-pairs and list them\n",
    "- Is there any overlap in any of the features? (redundant information, like number of this or that room...)"
   ]
  },
  {
   "cell_type": "code",
   "execution_count": null,
   "metadata": {},
   "outputs": [],
   "source": [
    "# perform EDA here"
   ]
  },
  {
   "cell_type": "markdown",
   "metadata": {},
   "source": [
    "## Scaling and Finishing Up"
   ]
  },
  {
   "cell_type": "markdown",
   "metadata": {},
   "source": [
    "Now is a great time to scale the data and save it once it's preprocessed.\n",
    "- You can save it in your data folder, but you may want to make a new `processed/` subfolder to keep it organized"
   ]
  },
  {
   "cell_type": "code",
   "execution_count": null,
   "metadata": {},
   "outputs": [],
   "source": []
  }
 ],
 "metadata": {
  "kernelspec": {
   "display_name": "exam_env2",
   "language": "python",
   "name": "python3"
  },
  "language_info": {
   "codemirror_mode": {
    "name": "ipython",
    "version": 3
   },
   "file_extension": ".py",
   "mimetype": "text/x-python",
   "name": "python",
   "nbconvert_exporter": "python",
   "pygments_lexer": "ipython3",
   "version": "3.11.8"
  }
 },
 "nbformat": 4,
 "nbformat_minor": 2
}
