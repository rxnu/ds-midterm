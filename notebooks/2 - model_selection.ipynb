{
 "cells": [
  {
   "cell_type": "markdown",
   "metadata": {},
   "source": [
    "## Model Selection\n",
    "\n",
    "This notebook should include preliminary and baseline modeling.\n",
    "- Try as many different models as possible.\n",
    "- Don't worry about hyperparameter tuning or cross validation here.\n",
    "- Ideas include:\n",
    "    - linear regression\n",
    "    - support vector machines\n",
    "    - random forest\n",
    "    - xgboost"
   ]
  },
  {
   "cell_type": "code",
   "execution_count": 2,
   "metadata": {},
   "outputs": [
    {
     "name": "stdout",
     "output_type": "stream",
     "text": [
      "Any missing in X_train? False\n",
      "Any missing in X_test?  False\n"
     ]
    }
   ],
   "source": [
    "# impute any remaining NaNs\n",
    "from sklearn.impute import SimpleImputer\n",
    "import pandas as pd\n",
    "\n",
    "# set up a median imputer\n",
    "imputer = SimpleImputer(strategy=\"median\")\n",
    "\n",
    "X_train = pd.DataFrame(\n",
    "    imputer.fit_transform(X_train),\n",
    "    columns=X_train.columns,\n",
    "    index=X_train.index\n",
    ")\n",
    "X_test = pd.DataFrame(\n",
    "    imputer.transform(X_test),\n",
    "    columns=X_test.columns,\n",
    "    index=X_test.index\n",
    ")\n",
    "\n",
    "# check\n",
    "print(\"Any missing in X_train?\", X_train.isna().any().any())\n",
    "print(\"Any missing in X_test? \", X_test.isna().any().any())\n"
   ]
  },
  {
   "cell_type": "code",
   "execution_count": null,
   "metadata": {},
   "outputs": [
    {
     "name": "stdout",
     "output_type": "stream",
     "text": [
      "✔️  Loaded shapes:\n",
      "  X_train: (6327, 13),  y_train: (6327,)\n",
      "  X_test : (1582, 13),  y_test :  (1582,)\n"
     ]
    }
   ],
   "source": [
    "\n",
    "import pandas as pd\n",
    "\n",
    "\n",
    "X_train = pd.read_csv(\"../processed/X_train_scaled.csv\")\n",
    "X_test  = pd.read_csv(\"../processed/X_test_scaled.csv\")\n",
    "\n",
    "\n",
    "y_train = pd.read_csv(\"../processed/y_train.csv\", header=None).iloc[:, 0]\n",
    "y_test  = pd.read_csv(\"../processed/y_test.csv\",  header=None).iloc[:, 0]\n",
    "\n",
    "print(f\"  X_train: {X_train.shape},  y_train: {y_train.shape}\")\n",
    "print(f\"  X_test : {X_test.shape},  y_test :  {y_test.shape}\")\n",
    "\n"
   ]
  },
  {
   "cell_type": "code",
   "execution_count": 21,
   "metadata": {},
   "outputs": [
    {
     "ename": "KeyError",
     "evalue": "'description.sold_price'",
     "output_type": "error",
     "traceback": [
      "\u001b[0;31m---------------------------------------------------------------------------\u001b[0m",
      "\u001b[0;31mKeyError\u001b[0m                                  Traceback (most recent call last)",
      "File \u001b[0;32m/opt/homebrew/Caskroom/miniforge/base/envs/exam_env2/lib/python3.11/site-packages/pandas/core/indexes/base.py:3805\u001b[0m, in \u001b[0;36mIndex.get_loc\u001b[0;34m(self, key)\u001b[0m\n\u001b[1;32m   3804\u001b[0m \u001b[38;5;28;01mtry\u001b[39;00m:\n\u001b[0;32m-> 3805\u001b[0m     \u001b[38;5;28;01mreturn\u001b[39;00m \u001b[38;5;28mself\u001b[39m\u001b[38;5;241m.\u001b[39m_engine\u001b[38;5;241m.\u001b[39mget_loc(casted_key)\n\u001b[1;32m   3806\u001b[0m \u001b[38;5;28;01mexcept\u001b[39;00m \u001b[38;5;167;01mKeyError\u001b[39;00m \u001b[38;5;28;01mas\u001b[39;00m err:\n",
      "File \u001b[0;32mindex.pyx:167\u001b[0m, in \u001b[0;36mpandas._libs.index.IndexEngine.get_loc\u001b[0;34m()\u001b[0m\n",
      "File \u001b[0;32mindex.pyx:196\u001b[0m, in \u001b[0;36mpandas._libs.index.IndexEngine.get_loc\u001b[0;34m()\u001b[0m\n",
      "File \u001b[0;32mpandas/_libs/hashtable_class_helper.pxi:7081\u001b[0m, in \u001b[0;36mpandas._libs.hashtable.PyObjectHashTable.get_item\u001b[0;34m()\u001b[0m\n",
      "File \u001b[0;32mpandas/_libs/hashtable_class_helper.pxi:7089\u001b[0m, in \u001b[0;36mpandas._libs.hashtable.PyObjectHashTable.get_item\u001b[0;34m()\u001b[0m\n",
      "\u001b[0;31mKeyError\u001b[0m: 'description.sold_price'",
      "\nThe above exception was the direct cause of the following exception:\n",
      "\u001b[0;31mKeyError\u001b[0m                                  Traceback (most recent call last)",
      "Cell \u001b[0;32mIn[21], line 12\u001b[0m\n\u001b[1;32m      9\u001b[0m y_train_df \u001b[38;5;241m=\u001b[39m pd\u001b[38;5;241m.\u001b[39mread_csv(\u001b[38;5;124m\"\u001b[39m\u001b[38;5;124m../processed/y_train.csv\u001b[39m\u001b[38;5;124m\"\u001b[39m)\n\u001b[1;32m     10\u001b[0m y_test_df  \u001b[38;5;241m=\u001b[39m pd\u001b[38;5;241m.\u001b[39mread_csv(\u001b[38;5;124m\"\u001b[39m\u001b[38;5;124m../processed/y_test.csv\u001b[39m\u001b[38;5;124m\"\u001b[39m)\n\u001b[0;32m---> 12\u001b[0m y_train \u001b[38;5;241m=\u001b[39m y_train_df[\u001b[38;5;124m\"\u001b[39m\u001b[38;5;124mdescription.sold_price\u001b[39m\u001b[38;5;124m\"\u001b[39m]\n\u001b[1;32m     13\u001b[0m y_test  \u001b[38;5;241m=\u001b[39m y_test_df[\u001b[38;5;124m\"\u001b[39m\u001b[38;5;124mdescription.sold_price\u001b[39m\u001b[38;5;124m\"\u001b[39m]\n\u001b[1;32m     15\u001b[0m \u001b[38;5;28mprint\u001b[39m(\u001b[38;5;124mf\u001b[39m\u001b[38;5;124m\"\u001b[39m\u001b[38;5;124m  X_train: \u001b[39m\u001b[38;5;132;01m{\u001b[39;00mX_train\u001b[38;5;241m.\u001b[39mshape\u001b[38;5;132;01m}\u001b[39;00m\u001b[38;5;124m,  y_train: \u001b[39m\u001b[38;5;132;01m{\u001b[39;00my_train\u001b[38;5;241m.\u001b[39mshape\u001b[38;5;132;01m}\u001b[39;00m\u001b[38;5;124m\"\u001b[39m)\n",
      "File \u001b[0;32m/opt/homebrew/Caskroom/miniforge/base/envs/exam_env2/lib/python3.11/site-packages/pandas/core/frame.py:4102\u001b[0m, in \u001b[0;36mDataFrame.__getitem__\u001b[0;34m(self, key)\u001b[0m\n\u001b[1;32m   4100\u001b[0m \u001b[38;5;28;01mif\u001b[39;00m \u001b[38;5;28mself\u001b[39m\u001b[38;5;241m.\u001b[39mcolumns\u001b[38;5;241m.\u001b[39mnlevels \u001b[38;5;241m>\u001b[39m \u001b[38;5;241m1\u001b[39m:\n\u001b[1;32m   4101\u001b[0m     \u001b[38;5;28;01mreturn\u001b[39;00m \u001b[38;5;28mself\u001b[39m\u001b[38;5;241m.\u001b[39m_getitem_multilevel(key)\n\u001b[0;32m-> 4102\u001b[0m indexer \u001b[38;5;241m=\u001b[39m \u001b[38;5;28mself\u001b[39m\u001b[38;5;241m.\u001b[39mcolumns\u001b[38;5;241m.\u001b[39mget_loc(key)\n\u001b[1;32m   4103\u001b[0m \u001b[38;5;28;01mif\u001b[39;00m is_integer(indexer):\n\u001b[1;32m   4104\u001b[0m     indexer \u001b[38;5;241m=\u001b[39m [indexer]\n",
      "File \u001b[0;32m/opt/homebrew/Caskroom/miniforge/base/envs/exam_env2/lib/python3.11/site-packages/pandas/core/indexes/base.py:3812\u001b[0m, in \u001b[0;36mIndex.get_loc\u001b[0;34m(self, key)\u001b[0m\n\u001b[1;32m   3807\u001b[0m     \u001b[38;5;28;01mif\u001b[39;00m \u001b[38;5;28misinstance\u001b[39m(casted_key, \u001b[38;5;28mslice\u001b[39m) \u001b[38;5;129;01mor\u001b[39;00m (\n\u001b[1;32m   3808\u001b[0m         \u001b[38;5;28misinstance\u001b[39m(casted_key, abc\u001b[38;5;241m.\u001b[39mIterable)\n\u001b[1;32m   3809\u001b[0m         \u001b[38;5;129;01mand\u001b[39;00m \u001b[38;5;28many\u001b[39m(\u001b[38;5;28misinstance\u001b[39m(x, \u001b[38;5;28mslice\u001b[39m) \u001b[38;5;28;01mfor\u001b[39;00m x \u001b[38;5;129;01min\u001b[39;00m casted_key)\n\u001b[1;32m   3810\u001b[0m     ):\n\u001b[1;32m   3811\u001b[0m         \u001b[38;5;28;01mraise\u001b[39;00m InvalidIndexError(key)\n\u001b[0;32m-> 3812\u001b[0m     \u001b[38;5;28;01mraise\u001b[39;00m \u001b[38;5;167;01mKeyError\u001b[39;00m(key) \u001b[38;5;28;01mfrom\u001b[39;00m \u001b[38;5;21;01merr\u001b[39;00m\n\u001b[1;32m   3813\u001b[0m \u001b[38;5;28;01mexcept\u001b[39;00m \u001b[38;5;167;01mTypeError\u001b[39;00m:\n\u001b[1;32m   3814\u001b[0m     \u001b[38;5;66;03m# If we have a listlike key, _check_indexing_error will raise\u001b[39;00m\n\u001b[1;32m   3815\u001b[0m     \u001b[38;5;66;03m#  InvalidIndexError. Otherwise we fall through and re-raise\u001b[39;00m\n\u001b[1;32m   3816\u001b[0m     \u001b[38;5;66;03m#  the TypeError.\u001b[39;00m\n\u001b[1;32m   3817\u001b[0m     \u001b[38;5;28mself\u001b[39m\u001b[38;5;241m.\u001b[39m_check_indexing_error(key)\n",
      "\u001b[0;31mKeyError\u001b[0m: 'description.sold_price'"
     ]
    }
   ],
   "source": [
    "# load pre‐processed train/test splits\n",
    "import pandas as pd\n",
    "\n",
    "\n",
    "X_train = pd.read_csv(\"../processed/X_train_scaled.csv\")\n",
    "X_test  = pd.read_csv(\"../processed/X_test_scaled.csv\")\n",
    "\n",
    "\n",
    "y_train_df = pd.read_csv(\"../processed/y_train.csv\")\n",
    "y_test_df  = pd.read_csv(\"../processed/y_test.csv\")\n",
    "\n",
    "y_train = y_train_df[\"description.sold_price\"]\n",
    "y_test  = y_test_df[\"description.sold_price\"]\n",
    "\n",
    "print(f\"  X_train: {X_train.shape},  y_train: {y_train.shape}\")\n",
    "print(f\"  X_test : {X_test.shape},  y_test : {y_test.shape}\")\n",
    "\n"
   ]
  },
  {
   "cell_type": "code",
   "execution_count": null,
   "metadata": {},
   "outputs": [
    {
     "data": {
      "text/html": [
       "<div>\n",
       "<style scoped>\n",
       "    .dataframe tbody tr th:only-of-type {\n",
       "        vertical-align: middle;\n",
       "    }\n",
       "\n",
       "    .dataframe tbody tr th {\n",
       "        vertical-align: top;\n",
       "    }\n",
       "\n",
       "    .dataframe thead th {\n",
       "        text-align: right;\n",
       "    }\n",
       "</style>\n",
       "<table border=\"1\" class=\"dataframe\">\n",
       "  <thead>\n",
       "    <tr style=\"text-align: right;\">\n",
       "      <th></th>\n",
       "      <th>Linear Regression</th>\n",
       "      <th>Support Vector Regressor</th>\n",
       "      <th>Random Forest</th>\n",
       "      <th>Gradient‐Boosted Trees</th>\n",
       "      <th>K‐Nearest Neighbors Regressor</th>\n",
       "    </tr>\n",
       "  </thead>\n",
       "  <tbody>\n",
       "    <tr>\n",
       "      <th>0</th>\n",
       "      <td>1.320801e+06</td>\n",
       "      <td>312247.477953</td>\n",
       "      <td>1278030.0</td>\n",
       "      <td>1.326687e+06</td>\n",
       "      <td>1207400.0</td>\n",
       "    </tr>\n",
       "    <tr>\n",
       "      <th>1</th>\n",
       "      <td>3.028837e+05</td>\n",
       "      <td>311853.003240</td>\n",
       "      <td>296980.0</td>\n",
       "      <td>2.879322e+05</td>\n",
       "      <td>300000.0</td>\n",
       "    </tr>\n",
       "    <tr>\n",
       "      <th>2</th>\n",
       "      <td>1.533300e+05</td>\n",
       "      <td>311700.932187</td>\n",
       "      <td>165000.0</td>\n",
       "      <td>1.560060e+05</td>\n",
       "      <td>169000.0</td>\n",
       "    </tr>\n",
       "    <tr>\n",
       "      <th>3</th>\n",
       "      <td>1.377110e+05</td>\n",
       "      <td>311779.172336</td>\n",
       "      <td>153090.0</td>\n",
       "      <td>1.607883e+05</td>\n",
       "      <td>160000.0</td>\n",
       "    </tr>\n",
       "    <tr>\n",
       "      <th>4</th>\n",
       "      <td>2.536687e+05</td>\n",
       "      <td>311908.004850</td>\n",
       "      <td>356885.0</td>\n",
       "      <td>3.503398e+05</td>\n",
       "      <td>354200.0</td>\n",
       "    </tr>\n",
       "  </tbody>\n",
       "</table>\n",
       "</div>"
      ],
      "text/plain": [
       "   Linear Regression  Support Vector Regressor  Random Forest  \\\n",
       "0       1.320801e+06             312247.477953      1278030.0   \n",
       "1       3.028837e+05             311853.003240       296980.0   \n",
       "2       1.533300e+05             311700.932187       165000.0   \n",
       "3       1.377110e+05             311779.172336       153090.0   \n",
       "4       2.536687e+05             311908.004850       356885.0   \n",
       "\n",
       "   Gradient‐Boosted Trees  K‐Nearest Neighbors Regressor  \n",
       "0            1.326687e+06                      1207400.0  \n",
       "1            2.879322e+05                       300000.0  \n",
       "2            1.560060e+05                       169000.0  \n",
       "3            1.607883e+05                       160000.0  \n",
       "4            3.503398e+05                       354200.0  "
      ]
     },
     "execution_count": 12,
     "metadata": {},
     "output_type": "execute_result"
    }
   ],
   "source": [
    "\n",
    "import pandas as pd\n",
    "from sklearn.linear_model                 import LinearRegression\n",
    "from sklearn.svm                          import SVR\n",
    "from sklearn.ensemble                     import RandomForestRegressor, HistGradientBoostingRegressor\n",
    "from sklearn.neighbors                    import KNeighborsRegressor\n",
    "\n",
    "# defined 5 models\n",
    "models = {\n",
    "    \"Linear Regression\":               LinearRegression(),\n",
    "    \"Support Vector Regressor\":        SVR(kernel=\"rbf\"),\n",
    "    \"Random Forest\":                   RandomForestRegressor(random_state=42, n_estimators=100),\n",
    "    \"Gradient‐Boosted Trees\":          HistGradientBoostingRegressor(random_state=42),\n",
    "    \"K‐Nearest Neighbors Regressor\":    KNeighborsRegressor(n_neighbors=5),\n",
    "}\n",
    "predictions = {}\n",
    "for name, model in models.items():\n",
    "    model.fit(X_train, y_train)\n",
    "    predictions[name] = model.predict(X_test)\n",
    "\n",
    "# packed into a DataFrame\n",
    "preds_df = pd.DataFrame(predictions, index=X_test.index)\n",
    "preds_df.head()\n"
   ]
  },
  {
   "cell_type": "markdown",
   "metadata": {},
   "source": [
    "Consider what metrics you want to use to evaluate success.\n",
    "- If you think about mean squared error, can we actually relate to the amount of error?\n",
    "- Try root mean squared error so that error is closer to the original units (dollars)\n",
    "- What does RMSE do to outliers?\n",
    "- Is mean absolute error a good metric for this problem?\n",
    "- What about R^2? Adjusted R^2?\n",
    "- Briefly describe your reasons for picking the metrics you use"
   ]
  },
  {
   "cell_type": "code",
   "execution_count": null,
   "metadata": {},
   "outputs": [
    {
     "name": "stdout",
     "output_type": "stream",
     "text": [
      "                               RMSE ($)   MAE ($)     R²\n",
      "Linear Regression               79489.0   41457.0  0.985\n",
      "Support Vector Regressor       666130.0  237451.0 -0.028\n",
      "Random Forest                   29599.0    4388.0  0.998\n",
      "Gradient‐Boosted Trees         186738.0   27068.0  0.919\n",
      "K‐Nearest Neighbors Regressor  129996.0   46709.0  0.961\n"
     ]
    }
   ],
   "source": [
    "# gathered evaluation metrics and compared results\n",
    "from sklearn.metrics import mean_squared_error, mean_absolute_error, r2_score\n",
    "import numpy as np\n",
    "\n",
    "metrics = {}\n",
    "for name, preds in preds_df.items():\n",
    "    mse  = mean_squared_error(y_test, preds)\n",
    "    rmse = np.sqrt(mse)                   # take the square‐root!\n",
    "    mae  = mean_absolute_error(y_test, preds)\n",
    "    r2   = r2_score(y_test, preds)\n",
    "    metrics[name] = {\n",
    "        \"RMSE ($)\": int(rmse),\n",
    "        \"MAE ($)\": int(mae),\n",
    "        \"R²\":       round(r2, 3)\n",
    "    }\n",
    "\n",
    "results = pd.DataFrame(metrics).T\n",
    "print(results)\n",
    "\n",
    "\n"
   ]
  },
  {
   "cell_type": "markdown",
   "metadata": {},
   "source": [
    "We chose RMSE, MAE, and R² because together they offer a comprehensive, real-world evaluation of our models’ performance:\n",
    "\n",
    "Root Mean Squared Error (RMSE) expresses error in dollars and penalizes larger deviations more heavily—crucial when a single misestimate on a high-value property can amount to tens of thousands of dollars.\n",
    "\n",
    "Mean Absolute Error (MAE) also reports in dollars but treats all errors equally, providing insight into what a “typical” prediction error looks like without letting a few extreme outliers dominate.\n",
    "\n",
    "R² (Coefficient of Determination) captures the proportion of variance in sale prices explained by our features, so we can confidently state, for example, “this model accounts for 99% of the variability in home values.”\n",
    "\n"
   ]
  },
  {
   "cell_type": "markdown",
   "metadata": {},
   "source": [
    "## Feature Selection - STRETCH\n",
    "\n",
    "> **This step doesn't need to be part of your Minimum Viable Product (MVP), but its recommended you complete it if you have time!**\n",
    "\n",
    "Even with all the preprocessing we did in Notebook 1, you probably still have a lot of features. Are they all important for prediction?\n",
    "\n",
    "Investigate some feature selection algorithms (Lasso, RFE, Forward/Backward Selection)\n",
    "- Perform feature selection to get a reduced subset of your original features\n",
    "- Refit your models with this reduced dimensionality - how does performance change on your chosen metrics?\n",
    "- Based on this, should you include feature selection in your final pipeline? Explain\n",
    "\n",
    "Remember, feature selection often doesn't directly improve performance, but if performance remains the same, a simpler model is often preferrable. \n",
    "\n"
   ]
  },
  {
   "cell_type": "code",
   "execution_count": null,
   "metadata": {},
   "outputs": [],
   "source": [
    "# perform feature selection \n",
    "# refit models\n",
    "# gather evaluation metrics and compare to the previous step (full feature set)"
   ]
  },
  {
   "cell_type": "markdown",
   "metadata": {},
   "source": []
  }
 ],
 "metadata": {
  "kernelspec": {
   "display_name": "exam_env2",
   "language": "python",
   "name": "python3"
  },
  "language_info": {
   "codemirror_mode": {
    "name": "ipython",
    "version": 3
   },
   "file_extension": ".py",
   "mimetype": "text/x-python",
   "name": "python",
   "nbconvert_exporter": "python",
   "pygments_lexer": "ipython3",
   "version": "3.11.8"
  }
 },
 "nbformat": 4,
 "nbformat_minor": 2
}
